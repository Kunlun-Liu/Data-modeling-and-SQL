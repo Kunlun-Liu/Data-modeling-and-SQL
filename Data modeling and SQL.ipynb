{
 "cells": [
  {
   "cell_type": "markdown",
   "metadata": {},
   "source": [
    "# Data modeling and SQL for IMDB data\n",
    "***"
   ]
  },
  {
   "cell_type": "markdown",
   "metadata": {},
   "source": [
    "## Overview\n",
    "\n",
    "A company named MOVIE GEN Corp. needs your help to create and access a movie database. You are interested in helping them create this database. In this assignment, you will load the IMDB data into a database and run queries on it to retrieve records. \n",
    "\n",
    "** OBJECTIVE **\n",
    "\n",
    "In this assignment, you will first examine some flat data and develop an appropriate schema to efficiently represent that data in a SQL database.  You will then create that database, use Python to read and reformat the data and then use SQL commands to populate that database in an appropriate manner. Finally, you will query the database using different approaches and optimizations.\n",
    "\n",
    "**TASKS**\n",
    "\n",
    "1. Model data using star schema\n",
    "3. Use SQL to create a database\n",
    "4. Use Python to read data and create appropriate SQL commands to populate database \n",
    "4. Write relational algebra\n",
    "5. Run SQL to retrieve records for your customers\n",
    "7. Improve query performance\n",
    "8. Database visualization"
   ]
  },
  {
   "cell_type": "markdown",
   "metadata": {},
   "source": [
    "***\n",
    "## Part 4.1: Data modeling"
   ]
  },
  {
   "cell_type": "markdown",
   "metadata": {},
   "source": [
    "Build a **[star schema](https://en.wikipedia.org/wiki/Star_schema)** for the data contained in `all_data.csv`.\n",
    "\n",
    "Let's first read the csv file and examine its contents.  The strings in `all_data.csv` use the `latin1` character encoding.  When you read in this file using `pandas`, make sure to include this encoding option."
   ]
  },
  {
   "cell_type": "code",
   "execution_count": 1,
   "metadata": {
    "collapsed": false
   },
   "outputs": [
    {
     "data": {
      "text/html": [
       "<div>\n",
       "<table border=\"1\" class=\"dataframe\">\n",
       "  <thead>\n",
       "    <tr style=\"text-align: right;\">\n",
       "      <th></th>\n",
       "      <th>director_name</th>\n",
       "      <th>num_critic_for_reviews</th>\n",
       "      <th>duration</th>\n",
       "      <th>director_facebook_likes</th>\n",
       "      <th>actor_3_facebook_likes</th>\n",
       "      <th>actor_2_name</th>\n",
       "      <th>actor_1_facebook_likes</th>\n",
       "      <th>gross</th>\n",
       "      <th>genres</th>\n",
       "      <th>actor_1_name</th>\n",
       "      <th>...</th>\n",
       "      <th>num_user_for_reviews</th>\n",
       "      <th>language</th>\n",
       "      <th>country</th>\n",
       "      <th>content_rating</th>\n",
       "      <th>budget</th>\n",
       "      <th>title_year</th>\n",
       "      <th>actor_2_facebook_likes</th>\n",
       "      <th>imdb_score</th>\n",
       "      <th>aspect_ratio</th>\n",
       "      <th>movie_facebook_likes</th>\n",
       "    </tr>\n",
       "  </thead>\n",
       "  <tbody>\n",
       "    <tr>\n",
       "      <th>0</th>\n",
       "      <td>Gore Verbinski</td>\n",
       "      <td>302.0</td>\n",
       "      <td>169.0</td>\n",
       "      <td>563</td>\n",
       "      <td>1000</td>\n",
       "      <td>Orlando Bloom</td>\n",
       "      <td>40000</td>\n",
       "      <td>309404152.0</td>\n",
       "      <td>Action</td>\n",
       "      <td>Johnny Depp</td>\n",
       "      <td>...</td>\n",
       "      <td>1238.0</td>\n",
       "      <td>English</td>\n",
       "      <td>USA</td>\n",
       "      <td>PG-13</td>\n",
       "      <td>300000000.0</td>\n",
       "      <td>2007.0</td>\n",
       "      <td>5000</td>\n",
       "      <td>7.1</td>\n",
       "      <td>2.35</td>\n",
       "      <td>0</td>\n",
       "    </tr>\n",
       "    <tr>\n",
       "      <th>1</th>\n",
       "      <td>Christopher Nolan</td>\n",
       "      <td>813.0</td>\n",
       "      <td>164.0</td>\n",
       "      <td>22000</td>\n",
       "      <td>23000</td>\n",
       "      <td>Christian Bale</td>\n",
       "      <td>27000</td>\n",
       "      <td>448130642.0</td>\n",
       "      <td>Action</td>\n",
       "      <td>Tom Hardy</td>\n",
       "      <td>...</td>\n",
       "      <td>2701.0</td>\n",
       "      <td>English</td>\n",
       "      <td>USA</td>\n",
       "      <td>PG-13</td>\n",
       "      <td>250000000.0</td>\n",
       "      <td>2012.0</td>\n",
       "      <td>23000</td>\n",
       "      <td>8.5</td>\n",
       "      <td>2.35</td>\n",
       "      <td>164000</td>\n",
       "    </tr>\n",
       "    <tr>\n",
       "      <th>2</th>\n",
       "      <td>Andrew Stanton</td>\n",
       "      <td>462.0</td>\n",
       "      <td>132.0</td>\n",
       "      <td>475</td>\n",
       "      <td>530</td>\n",
       "      <td>Samantha Morton</td>\n",
       "      <td>640</td>\n",
       "      <td>73058679.0</td>\n",
       "      <td>Action</td>\n",
       "      <td>Daryl Sabara</td>\n",
       "      <td>...</td>\n",
       "      <td>738.0</td>\n",
       "      <td>English</td>\n",
       "      <td>USA</td>\n",
       "      <td>PG-13</td>\n",
       "      <td>263700000.0</td>\n",
       "      <td>2012.0</td>\n",
       "      <td>632</td>\n",
       "      <td>6.6</td>\n",
       "      <td>2.35</td>\n",
       "      <td>24000</td>\n",
       "    </tr>\n",
       "    <tr>\n",
       "      <th>3</th>\n",
       "      <td>Nathan Greno</td>\n",
       "      <td>324.0</td>\n",
       "      <td>100.0</td>\n",
       "      <td>15</td>\n",
       "      <td>284</td>\n",
       "      <td>Donna Murphy</td>\n",
       "      <td>799</td>\n",
       "      <td>200807262.0</td>\n",
       "      <td>Adventure</td>\n",
       "      <td>Brad Garrett</td>\n",
       "      <td>...</td>\n",
       "      <td>387.0</td>\n",
       "      <td>English</td>\n",
       "      <td>USA</td>\n",
       "      <td>PG</td>\n",
       "      <td>260000000.0</td>\n",
       "      <td>2010.0</td>\n",
       "      <td>553</td>\n",
       "      <td>7.8</td>\n",
       "      <td>1.85</td>\n",
       "      <td>29000</td>\n",
       "    </tr>\n",
       "    <tr>\n",
       "      <th>4</th>\n",
       "      <td>David Yates</td>\n",
       "      <td>375.0</td>\n",
       "      <td>153.0</td>\n",
       "      <td>282</td>\n",
       "      <td>10000</td>\n",
       "      <td>Daniel Radcliffe</td>\n",
       "      <td>25000</td>\n",
       "      <td>301956980.0</td>\n",
       "      <td>Adventure</td>\n",
       "      <td>Alan Rickman</td>\n",
       "      <td>...</td>\n",
       "      <td>973.0</td>\n",
       "      <td>English</td>\n",
       "      <td>UK</td>\n",
       "      <td>PG</td>\n",
       "      <td>250000000.0</td>\n",
       "      <td>2009.0</td>\n",
       "      <td>11000</td>\n",
       "      <td>7.5</td>\n",
       "      <td>2.35</td>\n",
       "      <td>10000</td>\n",
       "    </tr>\n",
       "  </tbody>\n",
       "</table>\n",
       "<p>5 rows × 25 columns</p>\n",
       "</div>"
      ],
      "text/plain": [
       "       director_name  num_critic_for_reviews  duration  \\\n",
       "0     Gore Verbinski                   302.0     169.0   \n",
       "1  Christopher Nolan                   813.0     164.0   \n",
       "2     Andrew Stanton                   462.0     132.0   \n",
       "3       Nathan Greno                   324.0     100.0   \n",
       "4        David Yates                   375.0     153.0   \n",
       "\n",
       "   director_facebook_likes  actor_3_facebook_likes      actor_2_name  \\\n",
       "0                      563                    1000     Orlando Bloom   \n",
       "1                    22000                   23000    Christian Bale   \n",
       "2                      475                     530   Samantha Morton   \n",
       "3                       15                     284      Donna Murphy   \n",
       "4                      282                   10000  Daniel Radcliffe   \n",
       "\n",
       "   actor_1_facebook_likes        gross     genres  actor_1_name  \\\n",
       "0                   40000  309404152.0     Action   Johnny Depp   \n",
       "1                   27000  448130642.0     Action     Tom Hardy   \n",
       "2                     640   73058679.0     Action  Daryl Sabara   \n",
       "3                     799  200807262.0  Adventure  Brad Garrett   \n",
       "4                   25000  301956980.0  Adventure  Alan Rickman   \n",
       "\n",
       "           ...          num_user_for_reviews  language  country  \\\n",
       "0          ...                        1238.0   English      USA   \n",
       "1          ...                        2701.0   English      USA   \n",
       "2          ...                         738.0   English      USA   \n",
       "3          ...                         387.0   English      USA   \n",
       "4          ...                         973.0   English       UK   \n",
       "\n",
       "  content_rating       budget  title_year actor_2_facebook_likes imdb_score  \\\n",
       "0          PG-13  300000000.0      2007.0                   5000        7.1   \n",
       "1          PG-13  250000000.0      2012.0                  23000        8.5   \n",
       "2          PG-13  263700000.0      2012.0                    632        6.6   \n",
       "3             PG  260000000.0      2010.0                    553        7.8   \n",
       "4             PG  250000000.0      2009.0                  11000        7.5   \n",
       "\n",
       "  aspect_ratio  movie_facebook_likes  \n",
       "0         2.35                     0  \n",
       "1         2.35                164000  \n",
       "2         2.35                 24000  \n",
       "3         1.85                 29000  \n",
       "4         2.35                 10000  \n",
       "\n",
       "[5 rows x 25 columns]"
      ]
     },
     "execution_count": 1,
     "metadata": {},
     "output_type": "execute_result"
    }
   ],
   "source": [
    "import pandas as pd\n",
    "\n",
    "# read data in and show head\n",
    "df = pd.read_csv('all_data.csv', encoding = 'latin1')\n",
    "df.head()"
   ]
  },
  {
   "cell_type": "markdown",
   "metadata": {},
   "source": [
    "There are 24 columns in the csv file.  \n",
    "\n",
    "** TASK 4.1: ** Draw a star schema for this dataset, save your drawing as an image and attach it to the cell below.\n",
    "\n",
    "Note: We recommended using Google Drawings. Google Drawings is an online image creator that can be used to draw the Schema, and is what the TAs used to create the Schema in the solution.\n",
    "\n",
    "Tips:\n",
    "1. Your star schema should be composed of one fact table and three dimension tables. \n",
    "1. For each table, underline primary key.\n",
    "1. Specify data types for each item.\n",
    "1. Draw 1:N, N:1, N:N or 1:1 on connecting line.\n",
    "1. Including image in markdown is easy, see [here](https://stackoverflow.com/questions/255170/markdown-and-image-alignment)."
   ]
  },
  {
   "cell_type": "markdown",
   "metadata": {},
   "source": [
    "<img style=\"float: right;\" src=\"a4.jpg\">\n",
    "\n",
    "Correct data type in graph: [gross int -> gross real] \n",
    "                            [budget int -> budget real] \n",
    "                            [imdb_score int -> imdb_score real] \n",
    "                            [aspect_ratio int -> aspect_ratio real]"
   ]
  },
  {
   "cell_type": "markdown",
   "metadata": {},
   "source": [
    "# YOUR CODE HERE"
   ]
  },
  {
   "cell_type": "markdown",
   "metadata": {},
   "source": [
    "## Part 4.2: Create database\n",
    " \n",
    "In this part, we will create a [SQLite3 database](https://docs.python.org/3/library/sqlite3.html). This part is really similar to what we saw in lab4b.\n",
    "\n",
    "The first thing you'll need to do when interacting with a SQLite database (and generally any SQL databases) is to open up a connection (see below). If the database doesn't exist, the SQLite3 module will create one."
   ]
  },
  {
   "cell_type": "code",
   "execution_count": 2,
   "metadata": {
    "collapsed": true
   },
   "outputs": [],
   "source": [
    "import sqlite3\n",
    "import csv\n",
    "\n",
    "conn = sqlite3.connect('movie.db')\n",
    "c = conn.cursor()"
   ]
  },
  {
   "cell_type": "markdown",
   "metadata": {},
   "source": [
    "** TASK 4.2: ** Fill in function `create_database` with the following instructions.\n",
    "\n",
    "- [Drop all existing tables](https://www.techonthenet.com/sqlite/tables/drop_table.php) in the database. Doing this will allow us to simply re-run the script if we want to try a new schema.\n",
    "- [Create the tables](http://www.sqlitetutorial.net/sqlite-create-table) according to your star schema. \n",
    "\n",
    "**Note:** \n",
    "\n",
    "- To execute queries, simply run the `cursor.execute()` with your query as the argument.\n",
    "- Remember to to run 'conn.commit()' in order to commit (i.e. save) your changes.\n",
    "- Remember to define PRIMARY KEYs and FOREIGN KEYs in your table, refer to [here](http://www.sqlitetutorial.net/sqlite-primary-key/).\n",
    "- Remember to commit the connection to save changes."
   ]
  },
  {
   "cell_type": "code",
   "execution_count": 3,
   "metadata": {
    "collapsed": false
   },
   "outputs": [],
   "source": [
    "def create_database(conn):\n",
    "    \"\"\"\n",
    "    Using the database connection conn, create tables appropriate for \n",
    "    storing and using IMDB data.  Drops any pre-exsiting tables that would be re-defined by this procedure.\n",
    "    \"\"\"\n",
    "    c = conn.cursor()\n",
    "    # YOUR CODE HERE\n",
    "    c = conn.cursor()\n",
    "    c.execute('''DROP TABLE IF EXISTS movies''')\n",
    "    c.execute('''DROP TABLE IF EXISTS actors''')\n",
    "    c.execute('''DROP TABLE IF EXISTS directors''')\n",
    "    c.execute('''DROP TABLE IF EXISTS fact_table''')\n",
    "    \n",
    "        # Create database with tables.\n",
    "    \n",
    "    c.execute(\"\"\"\n",
    "            CREATE TABLE directors(\n",
    "                director_id INTEGER,\n",
    "                director_name text,\n",
    "                director_facebook_likes int,\n",
    "                \n",
    "                PRIMARY KEY(director_id))\"\"\")\n",
    "    c.execute(\"\"\"\n",
    "            CREATE TABLE actors(\n",
    "                actor_id INTEGER,\n",
    "                actor_name text,\n",
    "                actor_facebook_likes int,\n",
    "                \n",
    "                PRIMARY KEY(actor_id))\"\"\")\n",
    "    \n",
    "    c.execute(\"\"\"\n",
    "            CREATE TABLE movies(\n",
    "            movie_id INTEGER,\n",
    "            num_critic_for_reviews int,\n",
    "            duration int,\n",
    "            gross REAL,\n",
    "            generes text,\n",
    "            movie_title text,\n",
    "            num_voted_users int,\n",
    "            cast_total_facebook_likes int,\n",
    "            facenumber_in_poster int,\n",
    "            num_user_for_reviews int,\n",
    "            language text,\n",
    "            country text,\n",
    "            content_rating int,\n",
    "            budget REAL,\n",
    "            title_year int,\n",
    "            imdb_score REAL,\n",
    "            aspect_ratio REAL,\n",
    "            movie_facebook_likes int,\n",
    "\n",
    "            PRIMARY KEY(movie_id))\"\"\")\n",
    "\n",
    "    c.execute(\"\"\"\n",
    "            CREATE TABLE fact_table(\n",
    "                actor1_id int,\n",
    "                actor2_id int,\n",
    "                actor3_id int,\n",
    "                director_id int,\n",
    "                movie_id int,\n",
    "                \n",
    "                FOREIGN KEY (actor1_id,actor2_id,actor3_id) REFERENCES actors(actor_id,actor_id,actor_id),\n",
    "                FOREIGN KEY (director_id) REFERENCES directors(director_id),\n",
    "                FOREIGN KEY (movie_id) REFERENCES movies(movie_id))\"\"\")\n",
    "    # Commit all changes\n",
    "    conn.commit()\n",
    "    \n",
    "create_database(conn)"
   ]
  },
  {
   "cell_type": "markdown",
   "metadata": {},
   "source": [
    "Now, you should be able to view the sqlite3 database which you had created in your assignment directory. Play around with the database! \n",
    "\n",
    "You can connect to a sqlite3 database via terminal with the following command:\n",
    "\n",
    "~~~~\n",
    "sqlite3 move.db\n",
    "~~~~\n",
    "\n",
    "To see the schema of your table, you can run the following command:\n",
    "\n",
    "~~~~\n",
    ".schema\n",
    "~~~~\n",
    "\n",
    "You can execute arbitrary SQL commands from the `sqlite>` prompt.\n",
    "More info on your other options can be found here.\n",
    "\n",
    "~~~~\n",
    ".help\n",
    "~~~~\n",
    "\n",
    "Finally, to exit from a sqlite3 database use the following command:\n",
    "\n",
    "~~~~\n",
    ".exit\n",
    "~~~~"
   ]
  },
  {
   "cell_type": "markdown",
   "metadata": {},
   "source": [
    "## Part 4.3: Populate database\n",
    "\n",
    "In **Lab 4b**  we provided you with three different csv files, one for each table. However, this isn't how real world data is typically structured when you first receive it. \n",
    "\n",
    "Often, you will receive a single data \"dump\" file. As a data scientist, you need to figure out how to split it into different tables, and insert the information into a database. \n",
    "\n",
    "Fill in function `populate_database` to insert the csv file contents into the movie database.  Below is a listing of column definitions that you might find helpful."
   ]
  },
  {
   "cell_type": "markdown",
   "metadata": {},
   "source": [
    "~~~~\n",
    "0 director_name\n",
    "1 num_critic_for_reviews\n",
    "2 duration\n",
    "3 director_facebook_likes\n",
    "4 actor_3_facebook_likes\n",
    "5 actor_2_name\n",
    "6 actor_1_facebook_likes\n",
    "7 gross\n",
    "8 genres\n",
    "9 actor_1_name\n",
    "10 movie_title\n",
    "11 num_voted_users\n",
    "12 cast_total_facebook_likes\n",
    "13 actor_3_name\n",
    "14 facenumber_in_poster\n",
    "15 num_user_for_reviews\n",
    "16 language\n",
    "17 country\n",
    "18 content_rating\n",
    "19 budget\n",
    "20 title_year\n",
    "21 actor_2_facebook_likes\n",
    "22 imdb_score\n",
    "23 aspect_ratio\n",
    "24 movie_facebook_likes\n",
    "~~~~"
   ]
  },
  {
   "cell_type": "code",
   "execution_count": 4,
   "metadata": {
    "collapsed": false,
    "scrolled": true
   },
   "outputs": [],
   "source": [
    "def populate_database(conn, csv_file):\n",
    "    \n",
    "    reader = csv.reader(open(csv_file, encoding='latin1'))\n",
    "    c = conn.cursor()\n",
    "\n",
    "    director_dic = dict()\n",
    "    movie_dic = dict()\n",
    "    actor_dic = dict()\n",
    "\n",
    "    director_id = 0\n",
    "    movie_id = 0\n",
    "    actor_id = 0\n",
    "\n",
    "    next(reader, None)\n",
    "    for row in reader:\n",
    "        row = [item.lower() for item in row]\n",
    "        \n",
    "        if row[0] not in director_dic:\n",
    "            director_id += 1\n",
    "            director_dic[row[0]] = director_id\n",
    "            \n",
    "            try:\n",
    "                c.execute(\"\"\"INSERT INTO directors (director_name,director_facebook_likes) VALUES (?,?)\"\"\",\n",
    "                         (row[0], row[3]))\n",
    "            except sqlite3.Error as e:\n",
    "                print(\"directors, insert error:\", e.args[0])\n",
    "        \n",
    "        if row[10] not in movie_dic: #movie_title is unique\n",
    "            movie_id += 1\n",
    "            movie_dic[row[10]] = movie_id\n",
    "\n",
    "            try:\n",
    "                c.execute(\"\"\"INSERT INTO movies (movie_title,num_critic_for_reviews,duration,facenumber_in_poster,\n",
    "                                                  gross,num_voted_users,cast_total_facebook_likes,generes,num_user_for_reviews,\n",
    "                                                  language,country,content_rating,budget,title_year,imdb_score,aspect_ratio,\n",
    "                                                  movie_facebook_likes) VALUES (?,?,?,?,?,?,?,?,?,?,?,?,?,?,?,?,?)\"\"\",\n",
    "                        (row[10], row[1],row[2],row[14],row[7],\n",
    "                        row[11],row[12],row[8],row[15],row[16],\n",
    "                        row[17],row[18],row[19],row[20],row[22],row[23],row[24]))\n",
    "            except sqlite3.Error as e:\n",
    "                print(\"movie, insert error:\", e.args[0])\n",
    "                \n",
    "        if row[9] not in actor_dic:\n",
    "            actor_id += 1\n",
    "            actor_dic[row[9]] = actor_id\n",
    "                \n",
    "            try:\n",
    "                c.execute(\"\"\"INSERT INTO actors (actor_name, actor_facebook_likes) VALUES (?,?)\"\"\",\n",
    "                             (row[9], row[6]))\n",
    "            except sqlite3.Error as e:\n",
    "                print(\"actor, insert error:\", e.args[0])\n",
    "\n",
    "        if row[5] not in actor_dic:\n",
    "            actor_id += 1\n",
    "            actor_dic[row[5]] = actor_id\n",
    "                \n",
    "            try:\n",
    "                c.execute(\"\"\"INSERT INTO actors (actor_name, actor_facebook_likes) VALUES (?,?)\"\"\",\n",
    "                             (row[5], row[21]))\n",
    "            except sqlite3.Error as e:\n",
    "                print(\"actor, insert error:\", e.args[0])\n",
    "\n",
    "\n",
    "        if row[13] not in actor_dic:\n",
    "            actor_id += 1\n",
    "            actor_dic[row[13]] = actor_id\n",
    "                \n",
    "            try:\n",
    "                c.execute(\"\"\"INSERT INTO actors (actor_name, actor_facebook_likes) VALUES (?,?)\"\"\",\n",
    "                             (row[13], row[4]))\n",
    "            except sqlite3.Error as e:\n",
    "                print(\"actor, insert error:\", e.args[0])\n",
    "       \n",
    "        try:\n",
    "            c.execute(\"\"\" INSERT INTO fact_table (actor1_id, actor2_id, actor3_id,director_id,movie_id)\n",
    "                        SELECT a1.actor_id,a2.actor_id,a3.actor_id,directors.director_id,movies.movie_id\n",
    "                        FROM actors a1, actors a2, actors a3,directors,movies\n",
    "                        WHERE a1.actor_name=? AND a2.actor_name=? AND a3.actor_name=? AND directors.director_name = ?\n",
    "                        AND movies.movie_title= ?\"\"\",(row[9],row[5],row[13],row[0],row[10]))\n",
    "        except sqlite3.Error as e:\n",
    "            print(\"fact_table, insert error:\", e.args[0])\n",
    "\n",
    "    conn.commit()\n",
    "        \n",
    "populate_database(conn, 'all_data.csv')"
   ]
  },
  {
   "cell_type": "code",
   "execution_count": 5,
   "metadata": {
    "collapsed": false
   },
   "outputs": [
    {
     "name": "stdout",
     "output_type": "stream",
     "text": [
      "movies:\n",
      "      movie_id  num_critic_for_reviews  duration        gross      generes  \\\n",
      "0            1                     302       169  309404152.0       action   \n",
      "1            2                     813       164  448130642.0       action   \n",
      "2            3                     462       132   73058679.0       action   \n",
      "3            4                     324       100  200807262.0    adventure   \n",
      "4            5                     375       153  301956980.0    adventure   \n",
      "5            6                     403       106  168368427.0       action   \n",
      "6            7                     313       151  423032628.0       action   \n",
      "7            8                     450       150   89289910.0       action   \n",
      "8            9                     258       150  141614023.0       action   \n",
      "9           10                     448       136  241063875.0       action   \n",
      "10          11                     451       106  179020854.0       action   \n",
      "11          12                     599       153  262030663.0       action   \n",
      "12          13                     251       113   70083519.0    adventure   \n",
      "13          14                     516       147  407197282.0       action   \n",
      "14          15                     377       131   65173160.0       action   \n",
      "15          16                     644       124  652177271.0       action   \n",
      "16          17                     608       195  408992272.0       action   \n",
      "17          18                     451       108  334185206.0    adventure   \n",
      "18          19                     334       104  234360014.0       action   \n",
      "19          20                     376       104  268488329.0    adventure   \n",
      "20          21                     495       142  202853933.0       action   \n",
      "21          22                     469       125  172051787.0       action   \n",
      "22          23                     304       106  191450875.0    adventure   \n",
      "23          24                     436       123  116593191.0       action   \n",
      "24          25                     453       103  414984497.0    adventure   \n",
      "25          26                     422       118  125320003.0       action   \n",
      "26          27                     654       123  202351611.0       action   \n",
      "27          28                     590       132  228756232.0       action   \n",
      "28          29                     490       143  144812796.0        drama   \n",
      "29          30                     306       116   90755643.0       action   \n",
      "...        ...                     ...       ...          ...          ...   \n",
      "2993      2994                      51        98    3799339.0        crime   \n",
      "2994      2995                      23        94    1977544.0       comedy   \n",
      "2995      2996                      59        96    1050600.0       comedy   \n",
      "2996      2997                      99        90     489220.0      mystery   \n",
      "2997      2998                      43        78     191309.0        drama   \n",
      "2998      2999                     206        90    3388210.0        drama   \n",
      "2999      3000                     162        99      49494.0        drama   \n",
      "3000      3001                      67        80    5000000.0    adventure   \n",
      "3001      3002                      77        96    4505922.0       comedy   \n",
      "3002      3003                      37        97      78030.0        drama   \n",
      "3003      3004                      46        89     925402.0        drama   \n",
      "3004      3005                     143        97     469947.0        drama   \n",
      "3005      3006                     242        92    1316074.0        drama   \n",
      "3006      3007                      38        97   15180000.0        crime   \n",
      "3007      3008                      91        78    2882062.0       comedy   \n",
      "3008      3009                     232        85    9437933.0        drama   \n",
      "3009      3010                      40        91    6706368.0  documentary   \n",
      "3010      3011                      31       111   10174663.0        drama   \n",
      "3011      3012                     159        81   22757819.0       horror   \n",
      "3012      3013                      21        81    5228617.0       comedy   \n",
      "3013      3014                      88        90     110536.0       comedy   \n",
      "3014      3015                     193        88      59379.0       comedy   \n",
      "3015      3016                      66        82      40557.0       comedy   \n",
      "3016      3017                      65        82      30084.0       comedy   \n",
      "3017      3018                     113        98     389804.0       comedy   \n",
      "3018      3019                      75        90     241816.0        drama   \n",
      "3019      3020                      21        90     277233.0       comedy   \n",
      "3020      3021                       3        78     243768.0      western   \n",
      "3021      3022                      80        97    2856622.0       comedy   \n",
      "3022      3023                      81       110     136007.0        drama   \n",
      "\n",
      "                                            movie_title  num_voted_users  \\\n",
      "0              pirates of the caribbean: at world's end           471220   \n",
      "1                                 the dark knight rises          1144337   \n",
      "2                                           john carter           212204   \n",
      "3                                               tangled           294810   \n",
      "4                harry potter and the half-blood prince           321795   \n",
      "5                                     quantum of solace           330784   \n",
      "6            pirates of the caribbean: dead man's chest           522040   \n",
      "7                                       the lone ranger           181792   \n",
      "8              the chronicles of narnia: prince caspian           149922   \n",
      "9           pirates of the caribbean: on stranger tides           370704   \n",
      "10                                       men in black 3           268154   \n",
      "11                               the amazing spider-man           451803   \n",
      "12                                   the golden compass           149019   \n",
      "13                           captain america: civil war           272670   \n",
      "14                                           battleship           202382   \n",
      "15                                       jurassic world           418214   \n",
      "16                                           iron man 3           557489   \n",
      "17                                  alice in wonderland           306320   \n",
      "18                                x-men: the last stand           383427   \n",
      "19                                  monsters university           235025   \n",
      "20                             the amazing spider-man 2           321227   \n",
      "21                                         tron: legacy           264183   \n",
      "22                                               cars 2           101178   \n",
      "23                                        green lantern           223393   \n",
      "24                                          toy story 3           544884   \n",
      "25                                 terminator salvation           286095   \n",
      "26                                          world war z           465019   \n",
      "27                              star trek into darkness           395573   \n",
      "28                                     the great gatsby           362912   \n",
      "29                  prince of persia: the sands of time           222403   \n",
      "...                                                 ...              ...   \n",
      "2993                               better luck tomorrow             8000   \n",
      "2994  the incredibly true adventure of two girls in ...             3513   \n",
      "2995                                       chuck & buck             4662   \n",
      "2996                                               cube           160511   \n",
      "2997                                           november             2787   \n",
      "2998                                         like crazy            46813   \n",
      "2999                                        the canyons             8511   \n",
      "3000                      the beast from 20,000 fathoms             4812   \n",
      "3001                                           swingers            63951   \n",
      "3002                                  middle of nowhere             1034   \n",
      "3003                                 children of heaven            27882   \n",
      "3004                                            weekend            19846   \n",
      "3005                                      another earth            71387   \n",
      "3006                  sweet sweetback's baadasssss song             3340   \n",
      "3007                                            tadpole             5178   \n",
      "3008                                               once            90827   \n",
      "3009                                         roger & me            22800   \n",
      "3010                                  facing the giants            12399   \n",
      "3011                                        the gallows            13521   \n",
      "3012                                  hollywood shuffle             2770   \n",
      "3013                       the lost skeleton of cadavra             4117   \n",
      "3014                                      cheap thrills            12796   \n",
      "3015                                             the fp             1389   \n",
      "3016                                    happy christmas             5507   \n",
      "3017                                     tiny furniture            11816   \n",
      "3018                                  george washington             6246   \n",
      "3019                        smiling fish & goat on fire             2631   \n",
      "3020                            the legend of god's gun              143   \n",
      "3021                              in the company of men            11550   \n",
      "3022                                              clean             3924   \n",
      "\n",
      "      cast_total_facebook_likes  facenumber_in_poster  num_user_for_reviews  \\\n",
      "0                         48350                     0                  1238   \n",
      "1                        106759                     0                  2701   \n",
      "2                          1873                     1                   738   \n",
      "3                          2036                     1                   387   \n",
      "4                         58753                     3                   973   \n",
      "5                          2023                     1                  1243   \n",
      "6                         48486                     2                  1832   \n",
      "7                         45757                     1                   711   \n",
      "8                         22697                     4                   438   \n",
      "9                         54083                     4                   484   \n",
      "10                        12572                     1                   341   \n",
      "11                        28489                     0                  1225   \n",
      "12                        24106                     2                   666   \n",
      "13                        64798                     0                  1022   \n",
      "14                        26679                     0                   751   \n",
      "15                         8458                     0                  1290   \n",
      "16                        30426                     3                  1187   \n",
      "17                        79957                     0                   736   \n",
      "18                        21714                     0                  1912   \n",
      "19                        14863                     0                   265   \n",
      "20                        28631                     0                  1067   \n",
      "21                        25550                     0                   665   \n",
      "22                         4482                     0                   283   \n",
      "23                        17657                     2                   550   \n",
      "24                        19085                     3                   733   \n",
      "25                        27468                     0                   974   \n",
      "26                        32392                     0                   995   \n",
      "27                        21411                     0                  1171   \n",
      "28                        29770                     4                   753   \n",
      "29                        16149                     2                   453   \n",
      "...                         ...                   ...                   ...   \n",
      "2993                        139                     1                   138   \n",
      "2994                        656                     0                    36   \n",
      "2995                       1378                     0                   136   \n",
      "2996                       1743                     0                   696   \n",
      "2997                       1008                     1                    64   \n",
      "2998                      34983                     1                   150   \n",
      "2999                       2862                     0                    87   \n",
      "3000                        205                     0                    88   \n",
      "3001                       4230                     0                   252   \n",
      "3002                       3021                     2                    10   \n",
      "3003                        100                     0                   130   \n",
      "3004                        654                     0                    68   \n",
      "3005                       1303                     1                   228   \n",
      "3006                       1631                     1                    50   \n",
      "3007                       1144                     2                   101   \n",
      "3008                        332                     0                   329   \n",
      "3009                       1048                     0                   133   \n",
      "3010                        916                     0                   382   \n",
      "3011                        276                     0                   150   \n",
      "3012                       1431                     1                    32   \n",
      "3013                        284                     1                   118   \n",
      "3014                       4729                     3                    52   \n",
      "3015                       2046                     0                    22   \n",
      "3016                      11642                     3                    23   \n",
      "3017                       2530                     0                    35   \n",
      "3018                        642                     0                    76   \n",
      "3019                      20814                     5                    26   \n",
      "3020                         72                     0                     9   \n",
      "3021                        254                     0                   197   \n",
      "3022                        776                     1                    39   \n",
      "\n",
      "     language    country content_rating       budget  title_year  imdb_score  \\\n",
      "0     english        usa          pg-13  300000000.0        2007         7.1   \n",
      "1     english        usa          pg-13  250000000.0        2012         8.5   \n",
      "2     english        usa          pg-13  263700000.0        2012         6.6   \n",
      "3     english        usa             pg  260000000.0        2010         7.8   \n",
      "4     english         uk             pg  250000000.0        2009         7.5   \n",
      "5     english         uk          pg-13  200000000.0        2008         6.7   \n",
      "6     english        usa          pg-13  225000000.0        2006         7.3   \n",
      "7     english        usa          pg-13  215000000.0        2013         6.5   \n",
      "8     english        usa             pg  225000000.0        2008         6.6   \n",
      "9     english        usa          pg-13  250000000.0        2011         6.7   \n",
      "10    english        usa          pg-13  225000000.0        2012         6.8   \n",
      "11    english        usa          pg-13  230000000.0        2012         7.0   \n",
      "12    english        usa          pg-13  180000000.0        2007         6.1   \n",
      "13    english        usa          pg-13  250000000.0        2016         8.2   \n",
      "14    english        usa          pg-13  209000000.0        2012         5.9   \n",
      "15    english        usa          pg-13  150000000.0        2015         7.0   \n",
      "16    english        usa          pg-13  200000000.0        2013         7.2   \n",
      "17    english        usa             pg  200000000.0        2010         6.5   \n",
      "18    english     canada          pg-13  210000000.0        2006         6.8   \n",
      "19    english        usa              g  200000000.0        2013         7.3   \n",
      "20    english        usa          pg-13  200000000.0        2014         6.7   \n",
      "21    english        usa             pg  170000000.0        2010         6.8   \n",
      "22    english        usa              g  200000000.0        2011         6.3   \n",
      "23    english        usa          pg-13  200000000.0        2011         5.6   \n",
      "24    english        usa              g  200000000.0        2010         8.3   \n",
      "25    english        usa          pg-13  200000000.0        2009         6.6   \n",
      "26    english        usa          pg-13  190000000.0        2013         7.0   \n",
      "27    english        usa          pg-13  190000000.0        2013         7.8   \n",
      "28    english  australia          pg-13  105000000.0        2013         7.3   \n",
      "29    english        usa          pg-13  200000000.0        2010         6.6   \n",
      "...       ...        ...            ...          ...         ...         ...   \n",
      "2993  english        usa              r     250000.0        2002         7.2   \n",
      "2994  english        usa              r     250000.0        1995         6.5   \n",
      "2995  english        usa              r     250000.0        2000         6.6   \n",
      "2996  english     canada              r     365000.0        1997         7.3   \n",
      "2997  english        usa              r     150000.0        2004         5.5   \n",
      "2998  english        usa          pg-13     250000.0        2011         6.7   \n",
      "2999  english        usa              r     250000.0        2013         3.9   \n",
      "3000  english        usa       approved     210000.0        1953         6.7   \n",
      "3001  english        usa              r     200000.0        1996         7.4   \n",
      "3002  english        usa              r     200000.0        2012         6.5   \n",
      "3003  persian       iran             pg     180000.0        1997         8.5   \n",
      "3004  english         uk      not rated     120000.0        2011         7.7   \n",
      "3005  english        usa          pg-13     100000.0        2011         7.0   \n",
      "3006  english        usa              r     500000.0        1971         5.5   \n",
      "3007  english        usa          pg-13     150000.0        2000         6.3   \n",
      "3008  english    ireland              r     180000.0        2007         7.9   \n",
      "3009  english        usa              r     160000.0        1989         7.5   \n",
      "3010  english        usa             pg     100000.0        2006         6.7   \n",
      "3011  english        usa              r     100000.0        2015         4.2   \n",
      "3012  english        usa              r     100000.0        1987         7.0   \n",
      "3013  english        usa             pg      40000.0        2001         7.0   \n",
      "3014  english        usa      not rated     200000.0        2013         6.8   \n",
      "3015  english        usa              r      60000.0        2011         5.6   \n",
      "3016  english        usa              r      70000.0        2014         5.6   \n",
      "3017  english        usa      not rated      65000.0        2010         6.3   \n",
      "3018  english        usa        unrated      42000.0        2000         7.5   \n",
      "3019  english        usa              r      40000.0        1999         7.6   \n",
      "3020  english        usa              r      30000.0        2007         4.1   \n",
      "3021  english     canada              r      25000.0        1997         7.3   \n",
      "3022   french     france              r       4500.0        2004         6.9   \n",
      "\n",
      "      aspect_ratio  movie_facebook_likes  \n",
      "0             2.35                     0  \n",
      "1             2.35                164000  \n",
      "2             2.35                 24000  \n",
      "3             1.85                 29000  \n",
      "4             2.35                 10000  \n",
      "5             2.35                     0  \n",
      "6             2.35                  5000  \n",
      "7             2.35                 48000  \n",
      "8             2.35                     0  \n",
      "9             2.35                 58000  \n",
      "10            1.85                 40000  \n",
      "11            2.35                 56000  \n",
      "12            2.35                     0  \n",
      "13            2.35                 72000  \n",
      "14            2.35                 44000  \n",
      "15            2.00                150000  \n",
      "16            2.35                 95000  \n",
      "17            1.85                 24000  \n",
      "18            2.35                     0  \n",
      "19            1.85                 44000  \n",
      "20            2.35                 41000  \n",
      "21            2.35                 30000  \n",
      "22            2.35                 10000  \n",
      "23            2.35                 24000  \n",
      "24            1.85                 30000  \n",
      "25            2.35                     0  \n",
      "26            2.35                129000  \n",
      "27            2.35                 92000  \n",
      "28            2.35                115000  \n",
      "29            2.35                 23000  \n",
      "...            ...                   ...  \n",
      "2993          1.85                   661  \n",
      "2994          1.85                   423  \n",
      "2995          1.85                   170  \n",
      "2996          1.85                 11000  \n",
      "2997          1.85                    98  \n",
      "2998          1.78                 12000  \n",
      "2999          2.35                     0  \n",
      "3000          1.37                   465  \n",
      "3001          1.85                     0  \n",
      "3002          2.35                   569  \n",
      "3003          1.85                     0  \n",
      "3004          1.85                     0  \n",
      "3005          1.85                 21000  \n",
      "3006          1.37                   566  \n",
      "3007          1.85                   132  \n",
      "3008          1.85                 26000  \n",
      "3009          1.66                   667  \n",
      "3010          1.85                     0  \n",
      "3011          1.85                     0  \n",
      "3012          1.85                   471  \n",
      "3013          1.85                     0  \n",
      "3014          2.35                     0  \n",
      "3015          2.35                     0  \n",
      "3016          1.85                   812  \n",
      "3017          2.35                     0  \n",
      "3018          2.35                   451  \n",
      "3019          1.85                     0  \n",
      "3020          2.35                    13  \n",
      "3021          1.85                   489  \n",
      "3022          2.35                   171  \n",
      "\n",
      "[3023 rows x 18 columns] \n",
      "\n"
     ]
    }
   ],
   "source": [
    "import pandas as pd\n",
    "for t in[\"actors\"]:\n",
    "    print('%s:'%t)\n",
    "    print(pd.read_sql_query(\"SELECT * FROM %s\"%t, conn), '\\n')"
   ]
  },
  {
   "cell_type": "markdown",
   "metadata": {},
   "source": [
    "## Part 4.4: Relational Algebra\n",
    "\n",
    "In this part, your task is to write relational algebra expressions based on the following three tables that represent a very limited subset of the IMDB dataset. "
   ]
  },
  {
   "cell_type": "markdown",
   "metadata": {},
   "source": [
    "`actors` Table:\n",
    "\n",
    "| name | country | facebook_likes |age|               \n",
    "|---------------|------|------|------| \n",
    "| Jennifer Lawrence| U.S. |34000 |26 | \n",
    "|  Johnny Depp  | U.S.| 40000| 54|                    \n",
    "|Daniel Radcliffe | U.K.|11000 | 28|\n",
    "| Leonardo DiCaprio|U.S. |29000 | 42| \n",
    "|Robin Wright | U.S.|18000 | 51|\n",
    "|Josh Hutcherson |U.S. |14000 | 24| \n",
    "| Peter Dinklage| U.S.|22000 |48 | "
   ]
  },
  {
   "cell_type": "markdown",
   "metadata": {},
   "source": [
    "`actor_movies` Table:\n",
    "\n",
    "| name| movie_name|\n",
    "|------|------|\n",
    "| Jennifer Lawrence| X-Men: Days of Future Past |\n",
    "|Johnny Depp|Pirates of the Caribbean: At World's End|\n",
    "|Robin Wright | The Girl with the Dragon Tattoo |\n",
    "| Jennifer Lawrence| The Hunger Games: Mockingjay - Part 2 |\n",
    "|Leonardo DiCaprio | Inception |\n",
    "| Peter Dinklage|X-Men: Days of Future Past |\n",
    "|Josh Hutcherson | The Hunger Games: Mockingjay - Part 2|"
   ]
  },
  {
   "cell_type": "markdown",
   "metadata": {},
   "source": [
    "`directors` Table:\n",
    "\n",
    "| name | country | facebook_likes |age|               \n",
    "|---------------|------|------|------|  \n",
    "| Christopher Nolan| U.K. |22000 |46 | \n",
    "| Alfonso Cuarón   | Mexico| 10000| 55|                    \n",
    "|Shane Black | U.S.|1000 | 55|\n",
    "| David Fincher|U.S. |21000 | 54| \n",
    "|J.J. Abrams | U.S.|14000 | 51|"
   ]
  },
  {
   "cell_type": "markdown",
   "metadata": {},
   "source": [
    "`director_movies` Table:\n",
    "\n",
    "| name| movie_name|\n",
    "|------|------|\n",
    "| Christopher Nolan| Inception |\n",
    "|Shane Black|Iron Man 3|\n",
    "|Alfonso Cuarón | Gravity |\n",
    "| J.J. Abrams| Star Wars: The Force Awakens|\n",
    "|David Fincher | The Girl with the Dragon Tattoo |"
   ]
  },
  {
   "cell_type": "markdown",
   "metadata": {},
   "source": [
    "#### TASK 4: Based on the tables above, answer the following using relational algebra.\n",
    "1. Find the name of all movies that have leading american actors who are over 50-years-old.\n",
    "1. Find the name of all actors/actress that didn't star in the movie _Inception_.\n",
    "1. Find the name of all movies that have both famous directors and famous actors. (Assume people with at least 20,000 facebook are famous.)\n",
    "1. Find the name of actor/actress that has the highest number of movies.<br>\n",
    "    Hint: use aggregate functions\n",
    "1. Find the name of movies whose actor has the highest number of facebook likes.<br>\n",
    "    Hint: use aggregate functions/temp variables"
   ]
  },
  {
   "cell_type": "markdown",
   "metadata": {},
   "source": [
    "_write your answers in this cell_\n",
    "\n",
    "# YOUR CODE HERE\n",
    "1.$\\pi_{movie\\_name}$($\\sigma_{country=\"U.S.\"  age>50}$(actors $\\bowtie$ actor_movies))"
   ]
  },
  {
   "cell_type": "markdown",
   "metadata": {},
   "source": [
    "2.$\\pi_{name}$($\\sigma_{movie\\_name!=\"Inception\"}$(actors $\\bowtie$ actor_movies))"
   ]
  },
  {
   "cell_type": "markdown",
   "metadata": {},
   "source": [
    "3.$\\pi_{movie\\_name}$($\\sigma_{facebook\\_likes>20,000}$(actors $\\bowtie$ actor\\_movies) $\\bowtie$ $\\sigma_{facebook\\_likes>20,000}$(directors $\\bowtie$ director_movies))"
   ]
  },
  {
   "cell_type": "markdown",
   "metadata": {},
   "source": [
    "4.temp = $\\chi_{\\{name\\},\\{group(name),count(movie\\_name)\\ as\\ movie\\_count\\}}$(actor_movies)"
   ]
  },
  {
   "cell_type": "markdown",
   "metadata": {},
   "source": [
    "$\\pi_{name}$($\\chi_{\\{*\\},{max(movie\\_count)}}$(temp) $\\bowtie$ (temp))"
   ]
  },
  {
   "cell_type": "markdown",
   "metadata": {},
   "source": [
    "5.temp = (actors) $\\bowtie$ (actor_movies)"
   ]
  },
  {
   "cell_type": "markdown",
   "metadata": {},
   "source": [
    "$\\pi_{movie\\_name}$($\\chi_{\\{*\\},\\{max(facebook\\_likes)\\}}$(temp) $\\bowtie$ (temp))"
   ]
  },
  {
   "cell_type": "markdown",
   "metadata": {},
   "source": [
    "***\n",
    "## Part 4.5: Running Queries"
   ]
  },
  {
   "cell_type": "markdown",
   "metadata": {},
   "source": [
    "Now that you have created a database with the IMDB data. Your customer needs records that satisfy their requirements based on several constraints in order to improve their business revenue. \n",
    "In this part, you will create several SQL statements to extract them. \n",
    "\n",
    "IPython has a built-in module called [sql](https://pypi.python.org/pypi/ipython-sql) which allows us to easily interface with a database. The following two lines load this SQL extension and connect to your IMDB database:"
   ]
  },
  {
   "cell_type": "code",
   "execution_count": 10,
   "metadata": {
    "collapsed": false
   },
   "outputs": [
    {
     "name": "stdout",
     "output_type": "stream",
     "text": [
      "Requirement already satisfied: ipython-sql in c:\\users\\kunlu\\anaconda3\\lib\\site-packages\n",
      "Requirement already satisfied: sqlparse in c:\\users\\kunlu\\anaconda3\\lib\\site-packages (from ipython-sql)\n",
      "Requirement already satisfied: six in c:\\users\\kunlu\\anaconda3\\lib\\site-packages (from ipython-sql)\n",
      "Requirement already satisfied: ipython-genutils>=0.1.0 in c:\\users\\kunlu\\anaconda3\\lib\\site-packages (from ipython-sql)\n",
      "Requirement already satisfied: prettytable in c:\\users\\kunlu\\anaconda3\\lib\\site-packages (from ipython-sql)\n",
      "Requirement already satisfied: sqlalchemy>=0.6.7 in c:\\users\\kunlu\\anaconda3\\lib\\site-packages (from ipython-sql)\n",
      "Requirement already satisfied: ipython>=1.0 in c:\\users\\kunlu\\anaconda3\\lib\\site-packages (from ipython-sql)\n"
     ]
    }
   ],
   "source": [
    "!pip install ipython-sql"
   ]
  },
  {
   "cell_type": "code",
   "execution_count": 1,
   "metadata": {
    "collapsed": false,
    "scrolled": false
   },
   "outputs": [
    {
     "data": {
      "text/plain": [
       "'Connected: None@movie.db'"
      ]
     },
     "execution_count": 1,
     "metadata": {},
     "output_type": "execute_result"
    }
   ],
   "source": [
    "%reload_ext sql\n",
    "%sql sqlite:///movie.db"
   ]
  },
  {
   "cell_type": "markdown",
   "metadata": {},
   "source": [
    "Your task is to write 10 queries that fetch certain records for your customers. To run SQL queries, first call <font color = \"red\">%%sql</font> magic and then write your SQL queries."
   ]
  },
  {
   "cell_type": "markdown",
   "metadata": {},
   "source": [
    "**Query 4.1: Find the number of directors in the directors table.**\n"
   ]
  },
  {
   "cell_type": "code",
   "execution_count": 6,
   "metadata": {
    "collapsed": false
   },
   "outputs": [
    {
     "name": "stdout",
     "output_type": "stream",
     "text": [
      "Done.\n"
     ]
    },
    {
     "data": {
      "text/html": [
       "<table>\n",
       "    <tr>\n",
       "        <th>num_of_directors</th>\n",
       "    </tr>\n",
       "    <tr>\n",
       "        <td>1453</td>\n",
       "    </tr>\n",
       "</table>"
      ],
      "text/plain": [
       "[(1453,)]"
      ]
     },
     "execution_count": 6,
     "metadata": {},
     "output_type": "execute_result"
    }
   ],
   "source": [
    "%%sql\n",
    "SELECT count(\"director_name\") AS num_of_directors FROM directors;"
   ]
  },
  {
   "cell_type": "markdown",
   "metadata": {},
   "source": [
    "\n",
    "**Query 4.2: Find the number of actors in the actors table.**\n"
   ]
  },
  {
   "cell_type": "code",
   "execution_count": 7,
   "metadata": {
    "collapsed": false
   },
   "outputs": [
    {
     "name": "stdout",
     "output_type": "stream",
     "text": [
      "Done.\n"
     ]
    },
    {
     "data": {
      "text/html": [
       "<table>\n",
       "    <tr>\n",
       "        <th>num_of_actors</th>\n",
       "    </tr>\n",
       "    <tr>\n",
       "        <td>3872</td>\n",
       "    </tr>\n",
       "</table>"
      ],
      "text/plain": [
       "[(3872,)]"
      ]
     },
     "execution_count": 7,
     "metadata": {},
     "output_type": "execute_result"
    }
   ],
   "source": [
    "%%sql\n",
    "SELECT count(\"actor_name\") AS num_of_actors FROM actors;"
   ]
  },
  {
   "cell_type": "markdown",
   "metadata": {},
   "source": [
    "\n",
    "**Query 4.3: Find the number of movies in the movies table.**\n"
   ]
  },
  {
   "cell_type": "code",
   "execution_count": 8,
   "metadata": {
    "collapsed": false
   },
   "outputs": [
    {
     "name": "stdout",
     "output_type": "stream",
     "text": [
      "Done.\n"
     ]
    },
    {
     "data": {
      "text/html": [
       "<table>\n",
       "    <tr>\n",
       "        <th>num_of_movies</th>\n",
       "    </tr>\n",
       "    <tr>\n",
       "        <td>3023</td>\n",
       "    </tr>\n",
       "</table>"
      ],
      "text/plain": [
       "[(3023,)]"
      ]
     },
     "execution_count": 8,
     "metadata": {},
     "output_type": "execute_result"
    }
   ],
   "source": [
    "%%sql\n",
    "SELECT count(movie_title) AS num_of_movies FROM movies"
   ]
  },
  {
   "cell_type": "markdown",
   "metadata": {},
   "source": [
    "\n",
    "There should be 1453 directors, 3872 actors, 3023 movies. Please make sure you get the same results before running the following queries.\n",
    "\n",
    "Now, we can have some fun querying the database!\n",
    "\n",
    "**Query 4.4: Find years that have more than 100 movies and arrange them in ascending order. **\n"
   ]
  },
  {
   "cell_type": "code",
   "execution_count": 9,
   "metadata": {
    "collapsed": false,
    "scrolled": true
   },
   "outputs": [
    {
     "name": "stdout",
     "output_type": "stream",
     "text": [
      "Done.\n"
     ]
    },
    {
     "data": {
      "text/html": [
       "<table>\n",
       "    <tr>\n",
       "        <th>title_year</th>\n",
       "        <th>movies_in_year</th>\n",
       "    </tr>\n",
       "    <tr>\n",
       "        <td>2003</td>\n",
       "        <td>116</td>\n",
       "    </tr>\n",
       "    <tr>\n",
       "        <td>2014</td>\n",
       "        <td>118</td>\n",
       "    </tr>\n",
       "    <tr>\n",
       "        <td>2007</td>\n",
       "        <td>120</td>\n",
       "    </tr>\n",
       "    <tr>\n",
       "        <td>2000</td>\n",
       "        <td>123</td>\n",
       "    </tr>\n",
       "    <tr>\n",
       "        <td>1999</td>\n",
       "        <td>125</td>\n",
       "    </tr>\n",
       "    <tr>\n",
       "        <td>2013</td>\n",
       "        <td>130</td>\n",
       "    </tr>\n",
       "    <tr>\n",
       "        <td>2012</td>\n",
       "        <td>133</td>\n",
       "    </tr>\n",
       "    <tr>\n",
       "        <td>2009</td>\n",
       "        <td>142</td>\n",
       "    </tr>\n",
       "    <tr>\n",
       "        <td>2010</td>\n",
       "        <td>142</td>\n",
       "    </tr>\n",
       "    <tr>\n",
       "        <td>2004</td>\n",
       "        <td>146</td>\n",
       "    </tr>\n",
       "    <tr>\n",
       "        <td>2001</td>\n",
       "        <td>147</td>\n",
       "    </tr>\n",
       "    <tr>\n",
       "        <td>2011</td>\n",
       "        <td>147</td>\n",
       "    </tr>\n",
       "    <tr>\n",
       "        <td>2005</td>\n",
       "        <td>148</td>\n",
       "    </tr>\n",
       "    <tr>\n",
       "        <td>2008</td>\n",
       "        <td>151</td>\n",
       "    </tr>\n",
       "    <tr>\n",
       "        <td>2006</td>\n",
       "        <td>155</td>\n",
       "    </tr>\n",
       "    <tr>\n",
       "        <td>2002</td>\n",
       "        <td>162</td>\n",
       "    </tr>\n",
       "</table>"
      ],
      "text/plain": [
       "[(2003, 116),\n",
       " (2014, 118),\n",
       " (2007, 120),\n",
       " (2000, 123),\n",
       " (1999, 125),\n",
       " (2013, 130),\n",
       " (2012, 133),\n",
       " (2009, 142),\n",
       " (2010, 142),\n",
       " (2004, 146),\n",
       " (2001, 147),\n",
       " (2011, 147),\n",
       " (2005, 148),\n",
       " (2008, 151),\n",
       " (2006, 155),\n",
       " (2002, 162)]"
      ]
     },
     "execution_count": 9,
     "metadata": {},
     "output_type": "execute_result"
    }
   ],
   "source": [
    "%%sql\n",
    "SELECT title_year,count(movie_title) as movies_in_year\n",
    "FROM movies\n",
    "GROUP BY title_year\n",
    "HAVING movies_in_year > 100\n",
    "ORDER BY movies_in_year ASC;"
   ]
  },
  {
   "cell_type": "markdown",
   "metadata": {},
   "source": [
    "\n",
    "**Query 4.5: Order director name from most Facebook likes to fewest Facebook likes and only show top 10 directors.**\n"
   ]
  },
  {
   "cell_type": "code",
   "execution_count": 10,
   "metadata": {
    "collapsed": false,
    "scrolled": false
   },
   "outputs": [
    {
     "name": "stdout",
     "output_type": "stream",
     "text": [
      "Done.\n"
     ]
    },
    {
     "data": {
      "text/html": [
       "<table>\n",
       "    <tr>\n",
       "        <th>director_name</th>\n",
       "        <th>director_facebook_likes</th>\n",
       "    </tr>\n",
       "    <tr>\n",
       "        <td>joseph gordon-levitt</td>\n",
       "        <td>23000</td>\n",
       "    </tr>\n",
       "    <tr>\n",
       "        <td>christopher nolan</td>\n",
       "        <td>22000</td>\n",
       "    </tr>\n",
       "    <tr>\n",
       "        <td>david fincher</td>\n",
       "        <td>21000</td>\n",
       "    </tr>\n",
       "    <tr>\n",
       "        <td>kevin spacey</td>\n",
       "        <td>18000</td>\n",
       "    </tr>\n",
       "    <tr>\n",
       "        <td>denzel washington</td>\n",
       "        <td>18000</td>\n",
       "    </tr>\n",
       "    <tr>\n",
       "        <td>martin scorsese</td>\n",
       "        <td>17000</td>\n",
       "    </tr>\n",
       "    <tr>\n",
       "        <td>quentin tarantino</td>\n",
       "        <td>16000</td>\n",
       "    </tr>\n",
       "    <tr>\n",
       "        <td>clint eastwood</td>\n",
       "        <td>16000</td>\n",
       "    </tr>\n",
       "    <tr>\n",
       "        <td>tom hanks</td>\n",
       "        <td>15000</td>\n",
       "    </tr>\n",
       "    <tr>\n",
       "        <td>j.j. abrams</td>\n",
       "        <td>14000</td>\n",
       "    </tr>\n",
       "</table>"
      ],
      "text/plain": [
       "[('joseph gordon-levitt', 23000),\n",
       " ('christopher nolan', 22000),\n",
       " ('david fincher', 21000),\n",
       " ('kevin spacey', 18000),\n",
       " ('denzel washington', 18000),\n",
       " ('martin scorsese', 17000),\n",
       " ('quentin tarantino', 16000),\n",
       " ('clint eastwood', 16000),\n",
       " ('tom hanks', 15000),\n",
       " ('j.j. abrams', 14000)]"
      ]
     },
     "execution_count": 10,
     "metadata": {},
     "output_type": "execute_result"
    }
   ],
   "source": [
    "%%sql\n",
    "SELECT director_name,director_facebook_likes\n",
    "FROM directors\n",
    "ORDER BY director_facebook_likes DESC\n",
    "LIMIT 10;"
   ]
  },
  {
   "cell_type": "markdown",
   "metadata": {},
   "source": [
    "\n",
    "**Query 6: Find the titles of movies that are directed by Christopher Nolan and order them by movie title. **\n"
   ]
  },
  {
   "cell_type": "code",
   "execution_count": 11,
   "metadata": {
    "collapsed": false,
    "scrolled": false
   },
   "outputs": [
    {
     "name": "stdout",
     "output_type": "stream",
     "text": [
      "Done.\n"
     ]
    },
    {
     "data": {
      "text/html": [
       "<table>\n",
       "    <tr>\n",
       "        <th>director_name</th>\n",
       "        <th>movie_title</th>\n",
       "    </tr>\n",
       "    <tr>\n",
       "        <td>christopher nolan</td>\n",
       "        <td>batman begins</td>\n",
       "    </tr>\n",
       "    <tr>\n",
       "        <td>christopher nolan</td>\n",
       "        <td>inception</td>\n",
       "    </tr>\n",
       "    <tr>\n",
       "        <td>christopher nolan</td>\n",
       "        <td>insomnia</td>\n",
       "    </tr>\n",
       "    <tr>\n",
       "        <td>christopher nolan</td>\n",
       "        <td>interstellar</td>\n",
       "    </tr>\n",
       "    <tr>\n",
       "        <td>christopher nolan</td>\n",
       "        <td>memento</td>\n",
       "    </tr>\n",
       "    <tr>\n",
       "        <td>christopher nolan</td>\n",
       "        <td>the dark knight</td>\n",
       "    </tr>\n",
       "    <tr>\n",
       "        <td>christopher nolan</td>\n",
       "        <td>the dark knight rises</td>\n",
       "    </tr>\n",
       "    <tr>\n",
       "        <td>christopher nolan</td>\n",
       "        <td>the prestige</td>\n",
       "    </tr>\n",
       "</table>"
      ],
      "text/plain": [
       "[('christopher nolan', 'batman begins'),\n",
       " ('christopher nolan', 'inception'),\n",
       " ('christopher nolan', 'insomnia'),\n",
       " ('christopher nolan', 'interstellar'),\n",
       " ('christopher nolan', 'memento'),\n",
       " ('christopher nolan', 'the dark knight'),\n",
       " ('christopher nolan', 'the dark knight rises'),\n",
       " ('christopher nolan', 'the prestige')]"
      ]
     },
     "execution_count": 11,
     "metadata": {},
     "output_type": "execute_result"
    }
   ],
   "source": [
    "%%sql\n",
    "SELECT d.director_name,m.movie_title \n",
    "FROM fact_table\n",
    "JOIN directors d\n",
    "ON fact_table.director_id = d.director_id\n",
    "JOIN movies m\n",
    "ON fact_table.movie_id = m.movie_id\n",
    "WHERE d.director_name = \"christopher nolan\"\n",
    "ORDER BY movie_title;"
   ]
  },
  {
   "cell_type": "markdown",
   "metadata": {},
   "source": [
    "\n",
    "** Query 4.7: Find all the directors who directed at least 5 movies since 2007 (included) sorted by the number of movies in descending order.**\n"
   ]
  },
  {
   "cell_type": "code",
   "execution_count": 12,
   "metadata": {
    "collapsed": false,
    "scrolled": true
   },
   "outputs": [
    {
     "name": "stdout",
     "output_type": "stream",
     "text": [
      "Done.\n"
     ]
    },
    {
     "data": {
      "text/html": [
       "<table>\n",
       "    <tr>\n",
       "        <th>director_name</th>\n",
       "        <th>num_movies</th>\n",
       "    </tr>\n",
       "    <tr>\n",
       "        <td>clint eastwood</td>\n",
       "        <td>7</td>\n",
       "    </tr>\n",
       "    <tr>\n",
       "        <td>ethan coen</td>\n",
       "        <td>6</td>\n",
       "    </tr>\n",
       "    <tr>\n",
       "        <td>shawn levy</td>\n",
       "        <td>6</td>\n",
       "    </tr>\n",
       "    <tr>\n",
       "        <td>steven spielberg</td>\n",
       "        <td>6</td>\n",
       "    </tr>\n",
       "    <tr>\n",
       "        <td>woody allen</td>\n",
       "        <td>6</td>\n",
       "    </tr>\n",
       "    <tr>\n",
       "        <td>andy fickman</td>\n",
       "        <td>5</td>\n",
       "    </tr>\n",
       "    <tr>\n",
       "        <td>antoine fuqua</td>\n",
       "        <td>5</td>\n",
       "    </tr>\n",
       "    <tr>\n",
       "        <td>david ayer</td>\n",
       "        <td>5</td>\n",
       "    </tr>\n",
       "    <tr>\n",
       "        <td>david fincher</td>\n",
       "        <td>5</td>\n",
       "    </tr>\n",
       "    <tr>\n",
       "        <td>dennis dugan</td>\n",
       "        <td>5</td>\n",
       "    </tr>\n",
       "    <tr>\n",
       "        <td>francis lawrence</td>\n",
       "        <td>5</td>\n",
       "    </tr>\n",
       "    <tr>\n",
       "        <td>jon m. chu</td>\n",
       "        <td>5</td>\n",
       "    </tr>\n",
       "    <tr>\n",
       "        <td>paul w.s. anderson</td>\n",
       "        <td>5</td>\n",
       "    </tr>\n",
       "    <tr>\n",
       "        <td>robert schwentke</td>\n",
       "        <td>5</td>\n",
       "    </tr>\n",
       "    <tr>\n",
       "        <td>roland emmerich</td>\n",
       "        <td>5</td>\n",
       "    </tr>\n",
       "    <tr>\n",
       "        <td>ron howard</td>\n",
       "        <td>5</td>\n",
       "    </tr>\n",
       "    <tr>\n",
       "        <td>tim story</td>\n",
       "        <td>5</td>\n",
       "    </tr>\n",
       "</table>"
      ],
      "text/plain": [
       "[('clint eastwood', 7),\n",
       " ('ethan coen', 6),\n",
       " ('shawn levy', 6),\n",
       " ('steven spielberg', 6),\n",
       " ('woody allen', 6),\n",
       " ('andy fickman', 5),\n",
       " ('antoine fuqua', 5),\n",
       " ('david ayer', 5),\n",
       " ('david fincher', 5),\n",
       " ('dennis dugan', 5),\n",
       " ('francis lawrence', 5),\n",
       " ('jon m. chu', 5),\n",
       " ('paul w.s. anderson', 5),\n",
       " ('robert schwentke', 5),\n",
       " ('roland emmerich', 5),\n",
       " ('ron howard', 5),\n",
       " ('tim story', 5)]"
      ]
     },
     "execution_count": 12,
     "metadata": {},
     "output_type": "execute_result"
    }
   ],
   "source": [
    "%%sql\n",
    "SELECT d.director_name,COUNT(m.movie_title) AS num_movies \n",
    "FROM fact_table\n",
    "JOIN directors d\n",
    "ON fact_table.director_id = d.director_id\n",
    "JOIN movies m\n",
    "ON fact_table.movie_id = m.movie_id\n",
    "WHERE m.title_year >= 2007\n",
    "GROUP BY d.director_name\n",
    "HAVING num_movies >= 5\n",
    "ORDER BY num_movies DESC;"
   ]
  },
  {
   "cell_type": "markdown",
   "metadata": {},
   "source": [
    "\n",
    "**Query 4.8: Find the top five most productive actors since 2010 (included).**\n"
   ]
  },
  {
   "cell_type": "code",
   "execution_count": 13,
   "metadata": {
    "collapsed": false,
    "scrolled": true
   },
   "outputs": [
    {
     "name": "stdout",
     "output_type": "stream",
     "text": [
      "Done.\n"
     ]
    },
    {
     "data": {
      "text/html": [
       "<table>\n",
       "    <tr>\n",
       "        <th>actor_name</th>\n",
       "        <th>num_movie_acted</th>\n",
       "    </tr>\n",
       "    <tr>\n",
       "        <td>liam neeson</td>\n",
       "        <td>13</td>\n",
       "    </tr>\n",
       "    <tr>\n",
       "        <td>steve carell</td>\n",
       "        <td>12</td>\n",
       "    </tr>\n",
       "    <tr>\n",
       "        <td>bradley cooper</td>\n",
       "        <td>11</td>\n",
       "    </tr>\n",
       "    <tr>\n",
       "        <td>jennifer lawrence</td>\n",
       "        <td>11</td>\n",
       "    </tr>\n",
       "    <tr>\n",
       "        <td>channing tatum</td>\n",
       "        <td>11</td>\n",
       "    </tr>\n",
       "</table>"
      ],
      "text/plain": [
       "[('liam neeson', 13),\n",
       " ('steve carell', 12),\n",
       " ('bradley cooper', 11),\n",
       " ('jennifer lawrence', 11),\n",
       " ('channing tatum', 11)]"
      ]
     },
     "execution_count": 13,
     "metadata": {},
     "output_type": "execute_result"
    }
   ],
   "source": [
    "%%sql\n",
    "SELECT a.actor_name,COUNT(m.movie_id) AS num_movie_acted FROM actors a, movies m, fact_table f\n",
    "WHERE m.movie_id = f.movie_id AND m.title_year >= 2010 AND (f.actor1_id = a.actor_id OR f.actor2_id = a.actor_id OR f.actor3_id = a.actor_id)\n",
    "GROUP BY a.actor_id\n",
    "ORDER BY num_movie_acted DESC\n",
    "LIMIT 5;"
   ]
  },
  {
   "cell_type": "markdown",
   "metadata": {},
   "source": [
    "\n",
    "**Query 4.9: Find all the actors who have collaborated with Christopher Nolan, sorted by their collaboration frequency in descending order.**\n"
   ]
  },
  {
   "cell_type": "code",
   "execution_count": 45,
   "metadata": {
    "collapsed": false,
    "scrolled": true
   },
   "outputs": [
    {
     "name": "stdout",
     "output_type": "stream",
     "text": [
      "Done.\n"
     ]
    },
    {
     "data": {
      "text/html": [
       "<table>\n",
       "    <tr>\n",
       "        <th>actor_name</th>\n",
       "        <th>frequency</th>\n",
       "    </tr>\n",
       "    <tr>\n",
       "        <td>christian bale</td>\n",
       "        <td>4</td>\n",
       "    </tr>\n",
       "    <tr>\n",
       "        <td>tom hardy</td>\n",
       "        <td>2</td>\n",
       "    </tr>\n",
       "    <tr>\n",
       "        <td>joseph gordon-levitt</td>\n",
       "        <td>2</td>\n",
       "    </tr>\n",
       "    <tr>\n",
       "        <td>morgan freeman</td>\n",
       "        <td>2</td>\n",
       "    </tr>\n",
       "    <tr>\n",
       "        <td>scarlett johansson</td>\n",
       "        <td>1</td>\n",
       "    </tr>\n",
       "    <tr>\n",
       "        <td>liam neeson</td>\n",
       "        <td>1</td>\n",
       "    </tr>\n",
       "    <tr>\n",
       "        <td>anne hathaway</td>\n",
       "        <td>1</td>\n",
       "    </tr>\n",
       "    <tr>\n",
       "        <td>hugh jackman</td>\n",
       "        <td>1</td>\n",
       "    </tr>\n",
       "    <tr>\n",
       "        <td>leonardo dicaprio</td>\n",
       "        <td>1</td>\n",
       "    </tr>\n",
       "    <tr>\n",
       "        <td>heath ledger</td>\n",
       "        <td>1</td>\n",
       "    </tr>\n",
       "    <tr>\n",
       "        <td>matthew mcconaughey</td>\n",
       "        <td>1</td>\n",
       "    </tr>\n",
       "    <tr>\n",
       "        <td>mackenzie foy</td>\n",
       "        <td>1</td>\n",
       "    </tr>\n",
       "    <tr>\n",
       "        <td>al pacino</td>\n",
       "        <td>1</td>\n",
       "    </tr>\n",
       "    <tr>\n",
       "        <td>callum rennie</td>\n",
       "        <td>1</td>\n",
       "    </tr>\n",
       "    <tr>\n",
       "        <td>maura tierney</td>\n",
       "        <td>1</td>\n",
       "    </tr>\n",
       "    <tr>\n",
       "        <td>thomas lennon</td>\n",
       "        <td>1</td>\n",
       "    </tr>\n",
       "    <tr>\n",
       "        <td>crystal lowe</td>\n",
       "        <td>1</td>\n",
       "    </tr>\n",
       "    <tr>\n",
       "        <td>jorja fox</td>\n",
       "        <td>1</td>\n",
       "    </tr>\n",
       "</table>"
      ],
      "text/plain": [
       "[('christian bale', 4),\n",
       " ('tom hardy', 2),\n",
       " ('joseph gordon-levitt', 2),\n",
       " ('morgan freeman', 2),\n",
       " ('scarlett johansson', 1),\n",
       " ('liam neeson', 1),\n",
       " ('anne hathaway', 1),\n",
       " ('hugh jackman', 1),\n",
       " ('leonardo dicaprio', 1),\n",
       " ('heath ledger', 1),\n",
       " ('matthew mcconaughey', 1),\n",
       " ('mackenzie foy', 1),\n",
       " ('al pacino', 1),\n",
       " ('callum rennie', 1),\n",
       " ('maura tierney', 1),\n",
       " ('thomas lennon', 1),\n",
       " ('crystal lowe', 1),\n",
       " ('jorja fox', 1)]"
      ]
     },
     "execution_count": 45,
     "metadata": {},
     "output_type": "execute_result"
    }
   ],
   "source": [
    "%%sql\n",
    "SELECT a.actor_name,COUNT(a.actor_id) AS frequency FROM fact_table f\n",
    "JOIN actors a ON f.actor1_id = a.actor_id\n",
    "                OR f.actor2_id = a.actor_id\n",
    "                OR f.actor3_id = a.actor_id\n",
    "WHERE f.director_id IN (SELECT d.director_id FROM directors d WHERE d.director_name = \"christopher nolan\")\n",
    "GROUP BY a.actor_id\n",
    "ORDER BY frequency DESC;"
   ]
  },
  {
   "cell_type": "markdown",
   "metadata": {},
   "source": [
    "\n",
    "**Query 4.10: Without using an aggregation operator, write a SQL statement that finds the title of the movie(s) with the most Facebook likes.**\n"
   ]
  },
  {
   "cell_type": "code",
   "execution_count": 14,
   "metadata": {
    "collapsed": false
   },
   "outputs": [
    {
     "name": "stdout",
     "output_type": "stream",
     "text": [
      "Done.\n"
     ]
    },
    {
     "data": {
      "text/html": [
       "<table>\n",
       "    <tr>\n",
       "        <th>movie_title</th>\n",
       "        <th>movie_facebook_likes</th>\n",
       "    </tr>\n",
       "    <tr>\n",
       "        <td>interstellar</td>\n",
       "        <td>349000</td>\n",
       "    </tr>\n",
       "</table>"
      ],
      "text/plain": [
       "[('interstellar', 349000)]"
      ]
     },
     "execution_count": 14,
     "metadata": {},
     "output_type": "execute_result"
    }
   ],
   "source": [
    "%%sql\n",
    "SELECT movie_title,movie_facebook_likes\n",
    "FROM movies\n",
    "ORDER BY movie_facebook_likes DESC\n",
    "LIMIT 1;"
   ]
  },
  {
   "cell_type": "markdown",
   "metadata": {},
   "source": [
    "### END SOLUTION\n",
    "\n",
    "## Part 4.6: Database Visualization\n",
    "\n",
    "Since your customer isn't very good with databases, SQL or tabluar data,  they want your help visualizing some of database. With the help of SQL, you can easily retrieve data from the database, and then use pandas dataframes and `matlabplotlib.pyplot` to create the visualizations.\n",
    "\n",
    "Note: refer to Pandas visualization method [here](https://pandas.pydata.org/pandas-docs/stable/visualization.html)."
   ]
  },
  {
   "cell_type": "code",
   "execution_count": 17,
   "metadata": {
    "collapsed": true
   },
   "outputs": [],
   "source": [
    "import matplotlib.pyplot as plt\n",
    "import pandas as pd\n",
    "%matplotlib inline"
   ]
  },
  {
   "cell_type": "markdown",
   "metadata": {},
   "source": [
    "** Example **:\n",
    "The customer wants a a bar chart of the top 10 actors(based on facebook likes), sorted in descending order. "
   ]
  },
  {
   "cell_type": "code",
   "execution_count": 18,
   "metadata": {
    "collapsed": false,
    "scrolled": false
   },
   "outputs": [
    {
     "data": {
      "text/plain": [
       "<matplotlib.axes._subplots.AxesSubplot at 0x2455d255a20>"
      ]
     },
     "execution_count": 18,
     "metadata": {},
     "output_type": "execute_result"
    },
    {
     "data": {
      "image/png": "[encoded data removed]",
      "text/plain": [
       "<matplotlib.figure.Figure at 0x2455d2550b8>"
      ]
     },
     "metadata": {},
     "output_type": "display_data"
    }
   ],
   "source": [
    "# Solution\n",
    "\n",
    "c.execute('''\n",
    "        SELECT actor_name, actor_facebook_likes\n",
    "        FROM actors\n",
    "        ORDER BY actor_facebook_likes DESC\n",
    "        LIMIT 10''')\n",
    "dataframe = pd.DataFrame(data = c.fetchall(), columns = ['actor_name', 'actor_fcebook_likes'])\n",
    "dataframe.plot.bar(x='actor_name', title='actor facebook likes', figsize=(10,7))"
   ]
  },
  {
   "cell_type": "markdown",
   "metadata": {},
   "source": [
    "** Task 4.5 **: Create box plots of movie duration, imdb_score and num_critic_for_reviews.  Hint: Create each in its own plot, otherwise the y-axis will not be informative."
   ]
  },
  {
   "cell_type": "code",
   "execution_count": 19,
   "metadata": {
    "collapsed": false
   },
   "outputs": [
    {
     "data": {
      "image/png": "[encoded data removed]",
      "text/plain": [
       "<matplotlib.figure.Figure at 0x2455d2253c8>"
      ]
     },
     "metadata": {},
     "output_type": "display_data"
    }
   ],
   "source": [
    "# YOUR CODE HERE\n",
    "# box plot of movie duration\n",
    "c.execute(\"\"\"\n",
    "        SELECT movie_title, duration\n",
    "        FROM movies\n",
    "        \"\"\")\n",
    "df1 = pd.DataFrame(data = c.fetchall(), columns = ['movie_title', 'duration'])\n",
    "\n",
    "# box plot of movie imdb_score\n",
    "c.execute(\"\"\"\n",
    "        SELECT movie_title, imdb_score\n",
    "        FROM movies\n",
    "        \"\"\")\n",
    "df2 = pd.DataFrame(data = c.fetchall(), columns = ['movie_title', 'imdb_score'])\n",
    "\n",
    "# box plot of movie imdb_score\n",
    "c.execute(\"\"\"\n",
    "        SELECT movie_title, num_critic_for_reviews\n",
    "        FROM movies\n",
    "        \"\"\")\n",
    "df3 = pd.DataFrame(data = c.fetchall(), columns = ['movie_title', 'num_critic_for_reviews'])\n",
    "\n",
    "plt.figure(1)\n",
    "\n",
    "plt.subplot(131)\n",
    "plt.boxplot(df1[\"duration\"])\n",
    "plt.ylabel(\"duration\")\n",
    "plt.title(\"boxplot duration\")\n",
    "\n",
    "plt.subplot(132)\n",
    "plt.boxplot(df2[\"imdb_score\"])\n",
    "plt.ylabel(\"imdb_score\")\n",
    "plt.title(\"boxplot imdb_score\")\n",
    "\n",
    "plt.subplot(133)\n",
    "plt.boxplot(df3[\"num_critic_for_reviews\"])\n",
    "plt.ylabel(\"num_critic_for_reviews\")\n",
    "plt.title(\"boxplot num_critic_for_reviews\")\n",
    "\n",
    "plt.tight_layout()\n",
    "\n",
    "\n",
    "plt.show()"
   ]
  },
  {
   "cell_type": "markdown",
   "metadata": {},
   "source": [
    "** Task 4.6 **: Create a pie chart of movie counts per country of countries that have more than 10 movies"
   ]
  },
  {
   "cell_type": "code",
   "execution_count": 20,
   "metadata": {
    "collapsed": false,
    "scrolled": false
   },
   "outputs": [
    {
     "data": {
      "image/png": "[encoded data removed]",
      "text/plain": [
       "<matplotlib.figure.Figure at 0x2455d26c588>"
      ]
     },
     "metadata": {},
     "output_type": "display_data"
    }
   ],
   "source": [
    "c.execute('''\n",
    "        SELECT country, COUNT(movie_title) AS num_movie\n",
    "        FROM movies\n",
    "        GROUP BY country\n",
    "        HAVING num_movie > 10''')\n",
    "df = pd.DataFrame(data = c.fetchall(), columns = ['country', 'num_movie'])\n",
    "\n",
    "sizes = df[\"num_movie\"]\n",
    "labels = df[\"country\"]\n",
    "\n",
    "plt.pie(sizes,labels=labels, autopct='%1.1f%%', shadow=True, startangle=140,radius=3)\n",
    "plt.show()"
   ]
  },
  {
   "cell_type": "markdown",
   "metadata": {},
   "source": [
    "** Task 4.7 **: Plot a curve of cumulative number of movies released over time.\n",
    "\n",
    "** hint **: use [cumsum](https://pandas.pydata.org/pandas-docs/stable/generated/pandas.DataFrame.cumsum.html) function."
   ]
  },
  {
   "cell_type": "code",
   "execution_count": 21,
   "metadata": {
    "collapsed": false,
    "scrolled": false
   },
   "outputs": [
    {
     "data": {
      "image/png": "[encoded data removed]",
      "text/plain": [
       "<matplotlib.figure.Figure at 0x2455d65b7b8>"
      ]
     },
     "metadata": {},
     "output_type": "display_data"
    }
   ],
   "source": [
    "# YOUR CODE HERE\n",
    "c.execute('''\n",
    "        SELECT title_year, COUNT(movie_title) AS num_movie_year\n",
    "        FROM movies\n",
    "        GROUP BY title_year\n",
    "        ''')\n",
    "df = pd.DataFrame(data = c.fetchall(), columns = ['title_year', 'num_movie_year'])\n",
    "df[\"cumsum\"] = df[\"num_movie_year\"].cumsum()\n",
    "\n",
    "x=df[\"title_year\"]\n",
    "y=df[\"cumsum\"]\n",
    "\n",
    "plt.xlabel(\"years\")\n",
    "plt.ylabel(\"cumsum_movies\")\n",
    "plt.title(\"cumulative number of movies released over time\")\n",
    "\n",
    "plt.plot(x, y)\n",
    "plt.show()"
   ]
  },
  {
   "cell_type": "markdown",
   "metadata": {},
   "source": [
    "***\n",
    "## Part 4.7: Query Optimization\n",
    "In this part, we will see how to optimize database access by indexing and using materialized views. \n",
    "\n",
    "The next three functions create and exercise a toy database.\n",
    "`setup_test` creates a connection to the database.  `insert_test` performs `num` SQL `SELECT`s, the  function `select_test` does `num` SQL `INSERT`s.  "
   ]
  },
  {
   "cell_type": "code",
   "execution_count": 22,
   "metadata": {
    "collapsed": true
   },
   "outputs": [],
   "source": [
    "def setup_test(db):\n",
    "    conn = sqlite3.connect(db)\n",
    "    conn.execute('DROP TABLE IF EXISTS scripts')\n",
    "    conn.execute('''\n",
    "            CREATE TABLE scripts (\n",
    "                script_id INTEGER,\n",
    "                author_name text,\n",
    "                script_name text,\n",
    "                author_facebook_likes int,\n",
    "                PRIMARY KEY(script_id))\n",
    "                ''')\n",
    "    conn.commit()\n",
    "    return conn\n",
    "                \n",
    "\n",
    "def insert_test(conn, num):\n",
    "    c = conn.cursor()\n",
    "    for i in range(num):\n",
    "        c.execute('''INSERT INTO scripts (script_name) VALUES ('Dr. Who %d')'''%i)\n",
    "    conn.commit()\n",
    "\n",
    "def select_test(conn, num):\n",
    "    c = conn.cursor()\n",
    "    for i in range(num):\n",
    "        c.execute('''SELECT * \n",
    "                     FROM scripts\n",
    "                     WHERE script_name = \"Dr. Who %d\"'''%i)"
   ]
  },
  {
   "cell_type": "markdown",
   "metadata": {},
   "source": [
    "Below is some code for benchmarking your database.  Run it to see how well your database currently performs."
   ]
  },
  {
   "cell_type": "code",
   "execution_count": 23,
   "metadata": {
    "collapsed": true
   },
   "outputs": [],
   "source": [
    "conn = setup_test('test.db')\n",
    "insert_test(conn, 15000)"
   ]
  },
  {
   "cell_type": "code",
   "execution_count": 24,
   "metadata": {
    "collapsed": false
   },
   "outputs": [
    {
     "name": "stdout",
     "output_type": "stream",
     "text": [
      "3 loops, best of 3: 382 ms per loop\n"
     ]
    }
   ],
   "source": [
    "%timeit -n 3 -r 3 insert_test(conn, 15000)"
   ]
  },
  {
   "cell_type": "code",
   "execution_count": 25,
   "metadata": {
    "collapsed": false
   },
   "outputs": [
    {
     "name": "stdout",
     "output_type": "stream",
     "text": [
      "3 loops, best of 3: 2.24 s per loop\n"
     ]
    }
   ],
   "source": [
    "%timeit -n 3 -r 3 select_test(conn, 5000)"
   ]
  },
  {
   "cell_type": "markdown",
   "metadata": {
    "collapsed": true
   },
   "source": [
    "### Indexing\n",
    "\n",
    "** Task 4.8 **: Optimize the database so that `test_select` test performs more quickly.  Fill in the appropriate SQL commands in the cell below.  \n",
    "\n",
    "Hint: try adding an INDEX\n",
    "\n",
    "Note: The line `!cp movie.db movie1.db` copies your `movie.db` database to `movie1.db`."
   ]
  },
  {
   "cell_type": "code",
   "execution_count": 26,
   "metadata": {
    "collapsed": false
   },
   "outputs": [],
   "source": [
    "def setup_test(db):\n",
    "    conn = sqlite3.connect(db)\n",
    "    conn.execute('DROP TABLE IF EXISTS scripts')\n",
    "    conn.execute('''\n",
    "            CREATE TABLE scripts (\n",
    "                script_id INTEGER,\n",
    "                author_name text,\n",
    "                script_name text,\n",
    "                author_facebook_likes int,\n",
    "                PRIMARY KEY(script_id))\n",
    "                ''')\n",
    "    conn.execute(\"\"\"CREATE INDEX script_index ON scripts(script_name)\"\"\")\n",
    "    conn.commit()\n",
    "    return conn\n",
    "\n",
    "conn1 = setup_test('test1.db')"
   ]
  },
  {
   "cell_type": "markdown",
   "metadata": {},
   "source": [
    "Run the following code to see how your optimization performs."
   ]
  },
  {
   "cell_type": "code",
   "execution_count": 27,
   "metadata": {
    "collapsed": false
   },
   "outputs": [
    {
     "name": "stdout",
     "output_type": "stream",
     "text": [
      "3 loops, best of 3: 802 ms per loop\n"
     ]
    }
   ],
   "source": [
    "%timeit -n 3 -r 3 insert_test(conn1,15000)"
   ]
  },
  {
   "cell_type": "code",
   "execution_count": 28,
   "metadata": {
    "collapsed": false
   },
   "outputs": [
    {
     "name": "stdout",
     "output_type": "stream",
     "text": [
      "3 loops, best of 3: 672 ms per loop\n"
     ]
    }
   ],
   "source": [
    "%timeit -n 3 -r 3 select_test(conn1, 5000)"
   ]
  },
  {
   "cell_type": "markdown",
   "metadata": {},
   "source": [
    "** Task 4.9 **: Explain the performance changes you see.  Have any trade-offs been made?"
   ]
  },
  {
   "cell_type": "markdown",
   "metadata": {},
   "source": [
    "# YOUR CODE HERE\n",
    "1. The time of insert_test increased slightly \n",
    "2. The time of select_test decreased dramatically\n",
    "\n",
    "This change is acceptable because of two reasons: \n",
    "first the increase of inserting data is very short,\n",
    "second the frequency of using select is larger than insert data.\n",
    "Hence the overall time is decreased a lot."
   ]
  },
  {
   "cell_type": "markdown",
   "metadata": {},
   "source": [
    "### Temporary Tables\n",
    "Looking at the source code you have developed for the company you notice the following query turns out to be a bottle neck, \n",
    "\n",
    "```\n",
    "SELECT * FROM actors a, directors d, movies m, facts f \n",
    "                WHERE a.actor_id = f.actor_1_id AND d.director_id = f.director_id AND m.movie_id = f.movie_id\n",
    "```\n",
    "\n",
    "Below is some code to benchmark it's performance.  Try running it."
   ]
  },
  {
   "cell_type": "code",
   "execution_count": 29,
   "metadata": {
    "collapsed": false
   },
   "outputs": [],
   "source": [
    "def test(conn, num):\n",
    "    c = conn.cursor()\n",
    "    for i in range(num):\n",
    "        c.execute(\n",
    "            '''SELECT * FROM actors a, directors d, movies m, fact_table f \n",
    "                WHERE a.actor_id = f.actor1_id AND d.director_id = f.director_id AND m.movie_id = f.movie_id''')\n",
    "        conn.commit()"
   ]
  },
  {
   "cell_type": "code",
   "execution_count": 30,
   "metadata": {
    "collapsed": false
   },
   "outputs": [
    {
     "name": "stdout",
     "output_type": "stream",
     "text": [
      "1 loop, best of 3: 5.69 s per loop\n"
     ]
    }
   ],
   "source": [
    "conn = sqlite3.connect('movie.db')\n",
    "%timeit test(conn,50000)"
   ]
  },
  {
   "cell_type": "code",
   "execution_count": 31,
   "metadata": {
    "collapsed": true
   },
   "outputs": [],
   "source": [
    "def setup_mytmp(conn):\n",
    "    ''' Create a temporary table for a common query's results'''\n",
    "    c = conn.cursor()\n",
    "    c.execute('''DROP TABLE IF EXISTS mytmp''')\n",
    "    c.execute(\"\"\"INSERT INTO mytemp\n",
    "                SELECT * FROM WHERE (SELECT actors a, directors d, movies m, fact_table f \n",
    "                WHERE a.actor_id = f.actor1_id AND d.director_id = f.director_id AND m.movie_id = f.movie_id\n",
    "                \"\"\")"
   ]
  },
  {
   "cell_type": "markdown",
   "metadata": {},
   "source": [
    "** Task 4.10: ** One way to speed this query up is to store it's results and refer to them as needed, as opposed to rerunning the query.  Do this *inside* the database by using SQL to create a tempory table called 'testtmp' of these search results.  Write solution below, and then use the benchmarking code provided to test it."
   ]
  },
  {
   "cell_type": "code",
   "execution_count": 32,
   "metadata": {
    "collapsed": false
   },
   "outputs": [],
   "source": [
    "def setup_mytmp(conn):\n",
    "    ''' Create a temporary table for a common query's results'''\n",
    "    c = conn.cursor()\n",
    "    c.execute('''DROP TABLE IF EXISTS mytmp''')\n",
    "    c.execute(\"\"\"CREATE TEMPORARY TABLE mytmp (actor_id int,\n",
    "                                    actor_name text,\n",
    "                                    actor_facebook_likes int,\n",
    "                                    director_id int,\n",
    "                                    director_name text,\n",
    "                                    director_facebook_likes int,\n",
    "                                    movie_id int,\n",
    "                                    num_critic_for_reviews int,\n",
    "                                    duration int,\n",
    "                                    gross real,\n",
    "                                    generes text,\n",
    "                                    movie_title text,\n",
    "                                    num_voted_users text,\n",
    "                                    cast_total_facebook_likes text,\n",
    "                                    facenumber_in_poster int,\n",
    "                                    num_user_for_reviews int,\n",
    "                                    language text,\n",
    "                                    country text,\n",
    "                                    content_rating text,\n",
    "                                    budget real,\n",
    "                                    title_year int,\n",
    "                                    imdb_score real,\n",
    "                                    aspect_ratio real,\n",
    "                                    movie_facebook_likes int,\n",
    "                                    actor1_id int,\n",
    "                                    actor2_id int,\n",
    "                                    actor3_id int,\n",
    "                                    director_id_1 int,\n",
    "                                    movie_id_1 int)\"\"\")\n",
    "    c.execute(\"\"\"INSERT INTO mytmp (actor_id,\n",
    "                                    actor_name,\n",
    "                                    actor_facebook_likes,\n",
    "                                    director_id,\n",
    "                                    director_name,\n",
    "                                    director_facebook_likes,\n",
    "                                    movie_id,\n",
    "                                    num_critic_for_reviews,\n",
    "                                    duration,\n",
    "                                    gross,\n",
    "                                    generes,\n",
    "                                    movie_title,\n",
    "                                    num_voted_users,\n",
    "                                    cast_total_facebook_likes,\n",
    "                                    facenumber_in_poster,\n",
    "                                    num_user_for_reviews,\n",
    "                                    language,\n",
    "                                    country,\n",
    "                                    content_rating,\n",
    "                                    budget,\n",
    "                                    title_year,\n",
    "                                    imdb_score,\n",
    "                                    aspect_ratio,\n",
    "                                    movie_facebook_likes,\n",
    "                                    actor1_id,\n",
    "                                    actor2_id,\n",
    "                                    actor3_id,\n",
    "                                    director_id_1,\n",
    "                                    movie_id_1)\n",
    "                SELECT * FROM actors a, directors d, movies m, fact_table f \n",
    "                WHERE a.actor_id = f.actor1_id AND d.director_id = f.director_id AND m.movie_id = f.movie_id\"\"\")"
   ]
  },
  {
   "cell_type": "code",
   "execution_count": 33,
   "metadata": {
    "collapsed": false
   },
   "outputs": [
    {
     "name": "stdout",
     "output_type": "stream",
     "text": [
      "1 loop, best of 3: 1.46 s per loop\n"
     ]
    }
   ],
   "source": [
    "def test_mytmp(conn, num):\n",
    "    c = conn.cursor()\n",
    "    setup_mytmp(conn)\n",
    "    for i in range(num):\n",
    "        c.execute('''SELECT * FROM mytmp''')\n",
    "\n",
    "        \n",
    "%timeit test_mytmp(conn, 50000)"
   ]
  },
  {
   "cell_type": "markdown",
   "metadata": {},
   "source": [
    "### Analysis\n",
    "\n",
    "In this example, the run time of each test depends on the parameter `num`. The code below runs both `test` and your optimized version `test_mytmp` with `num = [100, 200, 400, 800, 1600, 3200, 6400]` and plots the run time performance of each function.  Note: This function uses `timeit` to find best execution times using repeated trials, the number of trails used depends on each trails run time (shorter times use more trials)."
   ]
  },
  {
   "cell_type": "code",
   "execution_count": 34,
   "metadata": {
    "collapsed": false
   },
   "outputs": [
    {
     "name": "stdout",
     "output_type": "stream",
     "text": [
      "100 loops, best of 3: 11.2 ms per loop\n",
      "100 loops, best of 3: 17.1 ms per loop\n",
      "10 loops, best of 3: 21.9 ms per loop\n",
      "100 loops, best of 3: 20.2 ms per loop\n",
      "10 loops, best of 3: 44 ms per loop\n",
      "10 loops, best of 3: 25.2 ms per loop\n",
      "10 loops, best of 3: 88.9 ms per loop\n",
      "10 loops, best of 3: 37.5 ms per loop\n",
      "10 loops, best of 3: 179 ms per loop\n",
      "10 loops, best of 3: 60.4 ms per loop\n",
      "1 loop, best of 3: 356 ms per loop\n",
      "10 loops, best of 3: 105 ms per loop\n",
      "1 loop, best of 3: 734 ms per loop\n",
      "1 loop, best of 3: 213 ms per loop\n"
     ]
    },
    {
     "data": {
      "image/png": "[encoded data removed]",
      "text/plain": [
       "<matplotlib.figure.Figure at 0x2455d65beb8>"
      ]
     },
     "metadata": {},
     "output_type": "display_data"
    }
   ],
   "source": [
    "import timeit as timeit\n",
    "\n",
    "X = [100, 200, 400, 800, 1600, 3200, 6400]\n",
    "a = []\n",
    "b = []\n",
    "for i in X:\n",
    "    result = %timeit -o test(conn,i)\n",
    "    a.append(result.best)\n",
    "    result = %timeit -o test_mytmp(conn,i)\n",
    "    b.append(result.best)     \n",
    "    \n",
    "plt.plot(X, a, label = 'test')\n",
    "plt.plot(X, b, label = 'test_mytmp')\n",
    "plt.xlabel = 'number of select'\n",
    "plt.ylabel = 'time / s'\n",
    "plt.legend()\n",
    "\n",
    "plt.show()"
   ]
  },
  {
   "cell_type": "markdown",
   "metadata": {},
   "source": [
    "** Task 4.11 ** What do the performance curves tell you about the use of temporary tables in this example? (you may need to run this code a few times to get a good feel for the situation)\n",
    "\n",
    "_write your answer here_\n",
    "\n",
    "1.As the num of select increases, time of test increases more rapidaly than test_mytmp. Which means we could save a significant amount of \n",
    "time if we select a lot of times using temporary table.In general, if manipulation of data that cannot be done within a single query, using temprary table saves time."
   ]
  },
  {
   "cell_type": "code",
   "execution_count": null,
   "metadata": {
    "collapsed": true
   },
   "outputs": [],
   "source": []
  }
 ],
 "metadata": {
  "kernelspec": {
   "display_name": "Python 3",
   "language": "python",
   "name": "python3"
  },
  "language_info": {
   "codemirror_mode": {
    "name": "ipython",
    "version": 3
   },
   "file_extension": ".py",
   "mimetype": "text/x-python",
   "name": "python",
   "nbconvert_exporter": "python",
   "pygments_lexer": "ipython3",
   "version": "3.6.0"
  }
 },
 "nbformat": 4,
 "nbformat_minor": 0
}
